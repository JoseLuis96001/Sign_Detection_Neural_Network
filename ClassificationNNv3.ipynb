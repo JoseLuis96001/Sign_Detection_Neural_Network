{
  "nbformat": 4,
  "nbformat_minor": 0,
  "metadata": {
    "colab": {
      "private_outputs": true,
      "provenance": [],
      "collapsed_sections": [],
      "mount_file_id": "1U6-3ilOyqd7Z-gucW5IwIretpYjGdINX",
      "authorship_tag": "ABX9TyNRAr7oFUDm0FPDzrGtOlqS",
      "include_colab_link": true
    },
    "kernelspec": {
      "name": "python3",
      "display_name": "Python 3"
    },
    "language_info": {
      "name": "python"
    },
    "accelerator": "GPU"
  },
  "cells": [
    {
      "cell_type": "markdown",
      "metadata": {
        "id": "view-in-github",
        "colab_type": "text"
      },
      "source": [
        "<a href=\"https://colab.research.google.com/github/JoseLuis96001/Sign_Image_Classification_Neural_Network/blob/main/ClassificationNNv3.ipynb\" target=\"_parent\"><img src=\"https://colab.research.google.com/assets/colab-badge.svg\" alt=\"Open In Colab\"/></a>"
      ]
    },
    {
      "cell_type": "markdown",
      "metadata": {
        "id": "jvOBxRVkpqXv"
      },
      "source": [
        "# Jose Llumiquinga Molina"
      ]
    },
    {
      "cell_type": "code",
      "metadata": {
        "id": "saetvd-SDtp4"
      },
      "source": [
        "import matplotlib.pyplot as plt\n",
        "import numpy as np\n",
        "\n",
        "import torch\n",
        "import torch.nn as nn\n",
        "import torch.nn.functional as F #capas sin parametros\n",
        "import torch.optim as optim\n",
        "\n",
        "\n",
        "from torch.utils.data import Dataset, DataLoader\n",
        "import torchvision.transforms as transforms\n",
        "from torchvision.utils import make_grid\n",
        "\n",
        "import os\n",
        "from PIL import Image\n",
        "import sys\n",
        "sys.path.append('/content/drive/MyDrive/10mo Sem/Computer Vision/Assignment 4/6464signs')"
      ],
      "execution_count": null,
      "outputs": []
    },
    {
      "cell_type": "code",
      "metadata": {
        "id": "tbqLGvZgHNJT"
      },
      "source": [
        "# The network is created by inheriting from the class nn.Module\n",
        "class Net(nn.Module):\n",
        "  # All layers that have parameters\n",
        "  def __init__(self, num_channels):\n",
        "    super(Net,self).__init__() # the parent class is initialized\n",
        "    \n",
        "    self.num_channels = num_channels\n",
        "    \n",
        "    # convolutional layers, extractors of characteristics\n",
        "    self.conv1 = nn.Conv2d(3, self.num_channels, 3, stride = 1, padding = 1) #(original channels, n expansion channels, kernel size,stride,padding )\n",
        "    self.bn1 = nn.BatchNorm2d(self.num_channels)\n",
        "    self.conv2 = nn.Conv2d(self.num_channels, self.num_channels*2, 3, stride = 1, padding = 1)\n",
        "    self.bn2 = nn.BatchNorm2d(self.num_channels*2)\n",
        "    self.conv3 = nn.Conv2d(self.num_channels*2, self.num_channels*4, 3, stride = 1, padding = 1)\n",
        "    self.bn3 = nn.BatchNorm2d(self.num_channels*4)\n",
        "    \n",
        "    # linear layers (fully con)\n",
        "    self.fc1 = nn.Linear(self.num_channels*4*8*8, self.num_channels*4)\n",
        "    self.fcbn1 = nn.BatchNorm1d(self.num_channels*4)\n",
        "    self.fc2 = nn.Linear(self.num_channels*4, 6) #6 because I have 6 classes\n",
        "    \n",
        "  def forward(self,x):\n",
        "      #Start 3x64x64\n",
        "      x = self.bn1(self.conv1(x)) # num_channels x 64 x 64\n",
        "      x = F.relu(F.max_pool2d(x, 2)) # num_channels x 32 x 32\n",
        "      x = self.bn2(self.conv2(x)) # num_channels*2 x 32 x32\n",
        "      x = F.relu(F.max_pool2d(x, 2)) #num_channels*2 x 16 x 16\n",
        "      x = self.bn3(self.conv3(x)) # num_channels*4 x16x16\n",
        "      x = F.relu(F.max_pool2d(x, 2)) # num_channels*4 x 8 x 8 \n",
        "\n",
        "      #flatten\n",
        "      x = x.view(-1, self.num_channels*4*8*8)\n",
        "\n",
        "      #fc (take tensors of dimension 1)\n",
        "      x = F.relu(self.fcbn1(self.fc1(x)))\n",
        "      x = F.dropout(x, p = 0.8, training=True)\n",
        "      x = self.fc2(x)\n",
        "\n",
        "      #log_softmax (to have a multi-class classification)\n",
        "\n",
        "      x = F.log_softmax(x, dim=1)\n",
        "\n",
        "      return x    "
      ],
      "execution_count": null,
      "outputs": []
    },
    {
      "cell_type": "code",
      "metadata": {
        "id": "0o9afJcVHU-H"
      },
      "source": [
        "# Implementing the dataset, inherits from pytorch\n",
        "class SIGNSDataset(Dataset):\n",
        "  def __init__(self, base_dir, split=\"train\", transform=None):\n",
        "    # sets the attributes of the dataset\n",
        "    path = os.path.join(base_dir, \"{}_signs\".format(split))\n",
        "    files = os.listdir(path)\n",
        "    \n",
        "    self.filenames = [os.path.join(path,f) for f in files if f.endswith(\".jpg\")] #routes of the images\n",
        "    \n",
        "    self.targets = [int(f[0]) for f in files] #the name of the files contains the labels\n",
        "    self.transform = transform # transform to preprocess the images\n",
        "    \n",
        "  def __len__(self):\n",
        "    return len(self.filenames)\n",
        "  \n",
        "  def __getitem__(self,idx):\n",
        "    image = Image.open(self.filenames[idx])\n",
        "    if self.transform:\n",
        "      image = self.transform(image)\n",
        "    return image, self.targets[idx]"
      ],
      "execution_count": null,
      "outputs": []
    },
    {
      "cell_type": "code",
      "metadata": {
        "id": "_NfU4PRORHxi"
      },
      "source": [
        "transform = transforms.Compose(\n",
        "  [transforms.RandomHorizontalFlip(), #data augmentation\n",
        "   transforms.ToTensor(),\n",
        "   transforms.Normalize((0.5,0.5,0.5), (0.5,0.5,0.5))    #default values mean, std,\n",
        "  ]\n",
        ")"
      ],
      "execution_count": null,
      "outputs": []
    },
    {
      "cell_type": "code",
      "metadata": {
        "id": "HShh0Q3ryRd5"
      },
      "source": [
        "trainver = trainset = SIGNSDataset('/content/drive/MyDrive/10mo Sem/Computer Vision/Assignment 4/6464signs', split=\"train\")\n",
        "trainver[0][0]"
      ],
      "execution_count": null,
      "outputs": []
    },
    {
      "cell_type": "code",
      "metadata": {
        "id": "vfFN23vUIzWD"
      },
      "source": [
        "trainset = SIGNSDataset('/content/drive/MyDrive/10mo Sem/Computer Vision/Assignment 4/6464signs', split=\"train\", transform = transform)#transforms.ToTensor())"
      ],
      "execution_count": null,
      "outputs": []
    },
    {
      "cell_type": "code",
      "metadata": {
        "id": "VgXOfrwWJSYs"
      },
      "source": [
        "dataloader = DataLoader(trainset, batch_size=32) # batch data delivery"
      ],
      "execution_count": null,
      "outputs": []
    },
    {
      "cell_type": "code",
      "metadata": {
        "id": "UqzWHZdpSGOU"
      },
      "source": [
        "valset = SIGNSDataset('/content/drive/MyDrive/10mo Sem/Computer Vision/Assignment 4/6464signs', split=\"val\", transform = transform)\n",
        "valloader = DataLoader(valset,batch_size=32)"
      ],
      "execution_count": null,
      "outputs": []
    },
    {
      "cell_type": "code",
      "metadata": {
        "id": "o695lnyQSN5O"
      },
      "source": [
        "testset = SIGNSDataset('/content/drive/MyDrive/10mo Sem/Computer Vision/Assignment 4/6464signs', split=\"test\", transform = transform)\n",
        "testloader = DataLoader(testset,batch_size=32)"
      ],
      "execution_count": null,
      "outputs": []
    },
    {
      "cell_type": "code",
      "metadata": {
        "id": "JxEhjWdcJcgu"
      },
      "source": [
        "def imshow(inp, title=None):\n",
        "    \"\"\"Imshow for Tensor.\"\"\"\n",
        "    inp = inp.numpy().transpose((1, 2, 0))\n",
        "    mean = np.array([0.485, 0.456, 0.406])\n",
        "    std = np.array([0.229, 0.224, 0.225])\n",
        "    inp = std * inp + mean\n",
        "    inp = np.clip(inp, 0, 1)\n",
        "    plt.imshow(inp)\n",
        "    if title is not None:\n",
        "        plt.title(title)\n",
        "    plt.pause(0.001)  # "
      ],
      "execution_count": null,
      "outputs": []
    },
    {
      "cell_type": "code",
      "metadata": {
        "id": "PiOPtq0eJk7s"
      },
      "source": [
        "for inputs, targets in dataloader:\n",
        "  out = make_grid(inputs)\n",
        "  imshow(out)\n",
        "  print(targets)\n",
        "  break"
      ],
      "execution_count": null,
      "outputs": []
    },
    {
      "cell_type": "code",
      "metadata": {
        "id": "hzV-polOJ_Pa"
      },
      "source": [
        "device = torch.device('cuda') #to configure and execute CUDA operations"
      ],
      "execution_count": null,
      "outputs": []
    },
    {
      "cell_type": "code",
      "metadata": {
        "id": "EuzS26kzKYEJ"
      },
      "source": [
        "device"
      ],
      "execution_count": null,
      "outputs": []
    },
    {
      "cell_type": "code",
      "metadata": {
        "id": "2gDBp9odNJyH"
      },
      "source": [
        "net = Net(32).to(device) # 32 no of channels\n",
        "loss_fn = nn.NLLLoss() # The negative log likelihood loss. It is useful to train a classification problem with C classes.\n",
        "optimizer = optim.SGD(net.parameters(), lr=1e-3, momentum = 0.9) # it needs the network parameters to modify them"
      ],
      "execution_count": null,
      "outputs": []
    },
    {
      "cell_type": "code",
      "metadata": {
        "id": "jLltv-_bNNr9"
      },
      "source": [
        "# To calculate the averages\n",
        "class RunningMetric():\n",
        "  def __init__(self):\n",
        "    self.S = 0\n",
        "    self.N = 0\n",
        "    \n",
        "  def update(self, val, size):\n",
        "    self.S += val # sum\n",
        "    self.N += size # amount of data \n",
        "    \n",
        "  def __call__(self):\n",
        "    return self.S/float(self.N)"
      ],
      "execution_count": null,
      "outputs": []
    },
    {
      "cell_type": "code",
      "metadata": {
        "id": "s5_rs34pNQ92"
      },
      "source": [
        "num_epochs = 100"
      ],
      "execution_count": null,
      "outputs": []
    },
    {
      "cell_type": "code",
      "metadata": {
        "id": "qY4q_1IeNRGs"
      },
      "source": [
        "for epoch in range(num_epochs):\n",
        "  print('Epoch {}/{}'.format(epoch+1, num_epochs))\n",
        "  print('-'*10)\n",
        "  \n",
        "  running_loss = RunningMetric() # loss\n",
        "  running_acc = RunningMetric() # accuracy\n",
        "  \n",
        "  for inputs, targets in dataloader:\n",
        "    inputs, targets = inputs.to(device), targets.to(device) # to the gpu\n",
        "    optimizer.zero_grad() # standard-set the gradients to zero for each batch\n",
        "    \n",
        "    outputs = net(inputs) # 32 probabilities\n",
        "    _, preds = torch.max(outputs,1) # take the max prob\n",
        "    loss = loss_fn(outputs, targets) # calculate the loss\n",
        "    \n",
        "    loss.backward() # automatically calculated gradients\n",
        "    optimizer.step() # update parameters\n",
        "    \n",
        "    batch_size = inputs.size()[0]\n",
        "    running_loss.update(loss.item()*batch_size,\n",
        "                       batch_size)\n",
        "    running_acc.update(torch.sum(preds == targets).float(),\n",
        "                       batch_size)\n",
        "  print(\"Loss: {:.4f} Acc: {:.4f} \".format(running_loss(),\n",
        "                                          running_acc()))"
      ],
      "execution_count": null,
      "outputs": []
    },
    {
      "cell_type": "code",
      "metadata": {
        "id": "A0R8SQm_Pd5E"
      },
      "source": [
        "#PATH = '/content/drive/MyDrive/10mo Sem/Computer Vision/Assignment 4/hands_net.pth'\n",
        "#torch.save(net.state_dict(), PATH)"
      ],
      "execution_count": null,
      "outputs": []
    },
    {
      "cell_type": "code",
      "metadata": {
        "id": "zPvu7pZJSnzn"
      },
      "source": [
        "# Test\n",
        "for inputs, targets in testloader:\n",
        "  out = make_grid(inputs)\n",
        "  imshow(out)\n",
        "  print(targets)\n",
        "  break"
      ],
      "execution_count": null,
      "outputs": []
    },
    {
      "cell_type": "code",
      "metadata": {
        "id": "XVWR63cRUF3r"
      },
      "source": [
        "dataiter = iter(testloader)\n",
        "images, labels = dataiter.next()"
      ],
      "execution_count": null,
      "outputs": []
    },
    {
      "cell_type": "code",
      "metadata": {
        "id": "CPXDE7NlUL1W"
      },
      "source": [
        "outputs = net(images.to(device))"
      ],
      "execution_count": null,
      "outputs": []
    },
    {
      "cell_type": "code",
      "metadata": {
        "id": "ZYwpqT9A3mFQ"
      },
      "source": [
        "#outputs"
      ],
      "execution_count": null,
      "outputs": []
    },
    {
      "cell_type": "code",
      "metadata": {
        "id": "RuIqv8c0Yb13"
      },
      "source": [
        "_, predicted = torch.max(outputs, 1)"
      ],
      "execution_count": null,
      "outputs": []
    },
    {
      "cell_type": "code",
      "metadata": {
        "id": "dHTYDIN-Yoce"
      },
      "source": [
        "predicted"
      ],
      "execution_count": null,
      "outputs": []
    },
    {
      "cell_type": "code",
      "metadata": {
        "id": "jBabtSPc9jF6"
      },
      "source": [
        "# most of the predictions correspond to the true labels"
      ],
      "execution_count": null,
      "outputs": []
    },
    {
      "cell_type": "code",
      "metadata": {
        "id": "svH3JHsuY6e8"
      },
      "source": [
        "correct = 0\n",
        "total = 0\n",
        "# since we're not training, we don't need to calculate the gradients for our outputs\n",
        "with torch.no_grad():\n",
        "    for data in testloader:\n",
        "        images, labels = data\n",
        "        images = images.to(device)\n",
        "        labels = labels.to(device)\n",
        "        # calculate outputs by running images through the network\n",
        "        outputs = net(images)\n",
        "        # the class with the highest energy is what we choose as prediction\n",
        "        _, predicted = torch.max(outputs.data, 1)\n",
        "        total += labels.size(0)\n",
        "        correct += (predicted == labels).sum().item()\n",
        "\n",
        "print('Accuracy of the network test images: %d %%' % (\n",
        "    100 * correct / total))"
      ],
      "execution_count": null,
      "outputs": []
    },
    {
      "cell_type": "code",
      "metadata": {
        "id": "RMAN_vlr-V25"
      },
      "source": [
        "%cd /content/drive/MyDrive/10mo Sem/Computer Vision/Assignment 4"
      ],
      "execution_count": null,
      "outputs": []
    },
    {
      "cell_type": "code",
      "metadata": {
        "id": "Boq-6Or8-Yml"
      },
      "source": [
        "!sudo apt-get install texlive-xetex texlive-fonts-recommended texlive-generic-recommended"
      ],
      "execution_count": null,
      "outputs": []
    },
    {
      "cell_type": "code",
      "metadata": {
        "id": "DB58VpIx-dMf"
      },
      "source": [
        "!jupyter nbconvert ClassificationNNv3.ipynb --to pdf"
      ],
      "execution_count": null,
      "outputs": []
    },
    {
      "cell_type": "code",
      "metadata": {
        "id": "G1UGYGQt4sF6"
      },
      "source": [
        "a = torch.randn(24, 6)\n",
        "a"
      ],
      "execution_count": null,
      "outputs": []
    },
    {
      "cell_type": "code",
      "metadata": {
        "id": "RFaLJD3n4xMm"
      },
      "source": [
        "torch.max(a, 1)"
      ],
      "execution_count": null,
      "outputs": []
    },
    {
      "cell_type": "code",
      "metadata": {
        "id": "adp1svbA5Jii"
      },
      "source": [],
      "execution_count": null,
      "outputs": []
    }
  ]
}